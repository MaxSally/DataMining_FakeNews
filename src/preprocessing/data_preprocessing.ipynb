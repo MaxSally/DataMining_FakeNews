{
 "cells": [
  {
   "cell_type": "code",
   "execution_count": 1,
   "id": "7a156b4e-db05-422b-801b-543550212aab",
   "metadata": {
    "execution": {
     "iopub.execute_input": "2023-04-24T02:36:18.473921Z",
     "iopub.status.busy": "2023-04-24T02:36:18.473921Z",
     "iopub.status.idle": "2023-04-24T02:36:18.918247Z",
     "shell.execute_reply": "2023-04-24T02:36:18.918247Z",
     "shell.execute_reply.started": "2023-04-24T02:36:18.473921Z"
    }
   },
   "outputs": [],
   "source": [
    "import pandas as pd\n",
    "\n",
    "# Load Liar dataset\n",
    "liar_cols = [\"id\", \"label\", \"statement\"]\n",
    "liar_path_test = \"../../dataset/test.tsv\"\n",
    "liar_df_test = pd.read_csv(liar_path_test, sep='\\t', header=None, usecols=[0, 1, 2], names=liar_cols)\n",
    "liar_path_train = \"../../dataset/train.tsv\"\n",
    "liar_df_train = pd.read_csv(liar_path_train, sep='\\t', header=None, usecols=[0, 1, 2], names=liar_cols)\n",
    "liar_path_valid = \"../../dataset/valid.tsv\"\n",
    "liar_df_valid = pd.read_csv(liar_path_valid, sep='\\t', header=None, usecols=[0, 1, 2], names=liar_cols)"
   ]
  },
  {
   "cell_type": "code",
   "execution_count": 2,
   "id": "63b4f52e-5c5d-4814-aebc-925cb3b62907",
   "metadata": {
    "execution": {
     "iopub.execute_input": "2023-04-24T02:36:18.920245Z",
     "iopub.status.busy": "2023-04-24T02:36:18.920245Z",
     "iopub.status.idle": "2023-04-24T02:36:18.934247Z",
     "shell.execute_reply": "2023-04-24T02:36:18.934247Z",
     "shell.execute_reply.started": "2023-04-24T02:36:18.920245Z"
    }
   },
   "outputs": [],
   "source": [
    "combined_liar = pd.concat([liar_df_test, liar_df_train, liar_df_valid])\n",
    "# Removing rows with missing values\n",
    "combined_liar.dropna(inplace=True)\n",
    "# Converting labels to numerical values\n",
    "#I hate this! We lose so much information!\n",
    "combined_liar['label'] = combined_liar['label'].map({'pants-fire': 0, 'false': 0, 'barely-true': 0, 'half-true': 1, 'mostly-true': 1, 'true': 1})"
   ]
  },
  {
   "cell_type": "code",
   "execution_count": 3,
   "id": "7dc6fd48-8883-4456-990f-b4586692c4b1",
   "metadata": {
    "execution": {
     "iopub.execute_input": "2023-04-24T02:36:18.935248Z",
     "iopub.status.busy": "2023-04-24T02:36:18.935248Z",
     "iopub.status.idle": "2023-04-24T02:36:18.951252Z",
     "shell.execute_reply": "2023-04-24T02:36:18.950251Z",
     "shell.execute_reply.started": "2023-04-24T02:36:18.935248Z"
    }
   },
   "outputs": [
    {
     "data": {
      "text/html": [
       "<div>\n",
       "<style scoped>\n",
       "    .dataframe tbody tr th:only-of-type {\n",
       "        vertical-align: middle;\n",
       "    }\n",
       "\n",
       "    .dataframe tbody tr th {\n",
       "        vertical-align: top;\n",
       "    }\n",
       "\n",
       "    .dataframe thead th {\n",
       "        text-align: right;\n",
       "    }\n",
       "</style>\n",
       "<table border=\"1\" class=\"dataframe\">\n",
       "  <thead>\n",
       "    <tr style=\"text-align: right;\">\n",
       "      <th></th>\n",
       "      <th>id</th>\n",
       "      <th>label</th>\n",
       "      <th>statement</th>\n",
       "    </tr>\n",
       "  </thead>\n",
       "  <tbody>\n",
       "    <tr>\n",
       "      <th>0</th>\n",
       "      <td>11972.json</td>\n",
       "      <td>1</td>\n",
       "      <td>Building a wall on the U.S.-Mexico border will...</td>\n",
       "    </tr>\n",
       "    <tr>\n",
       "      <th>1</th>\n",
       "      <td>11685.json</td>\n",
       "      <td>0</td>\n",
       "      <td>Wisconsin is on pace to double the number of l...</td>\n",
       "    </tr>\n",
       "    <tr>\n",
       "      <th>2</th>\n",
       "      <td>11096.json</td>\n",
       "      <td>0</td>\n",
       "      <td>Says John McCain has done nothing to help the ...</td>\n",
       "    </tr>\n",
       "    <tr>\n",
       "      <th>3</th>\n",
       "      <td>5209.json</td>\n",
       "      <td>1</td>\n",
       "      <td>Suzanne Bonamici supports a plan that will cut...</td>\n",
       "    </tr>\n",
       "    <tr>\n",
       "      <th>4</th>\n",
       "      <td>9524.json</td>\n",
       "      <td>0</td>\n",
       "      <td>When asked by a reporter whether hes at the ce...</td>\n",
       "    </tr>\n",
       "    <tr>\n",
       "      <th>...</th>\n",
       "      <td>...</td>\n",
       "      <td>...</td>\n",
       "      <td>...</td>\n",
       "    </tr>\n",
       "    <tr>\n",
       "      <th>1279</th>\n",
       "      <td>3419.json</td>\n",
       "      <td>1</td>\n",
       "      <td>For the first time in more than a decade, impo...</td>\n",
       "    </tr>\n",
       "    <tr>\n",
       "      <th>1280</th>\n",
       "      <td>12548.json</td>\n",
       "      <td>1</td>\n",
       "      <td>Says Donald Trump has bankrupted his companies...</td>\n",
       "    </tr>\n",
       "    <tr>\n",
       "      <th>1281</th>\n",
       "      <td>401.json</td>\n",
       "      <td>1</td>\n",
       "      <td>John McCain and George Bush have \"absolutely n...</td>\n",
       "    </tr>\n",
       "    <tr>\n",
       "      <th>1282</th>\n",
       "      <td>1055.json</td>\n",
       "      <td>0</td>\n",
       "      <td>A new poll shows 62 percent support the presid...</td>\n",
       "    </tr>\n",
       "    <tr>\n",
       "      <th>1283</th>\n",
       "      <td>9117.json</td>\n",
       "      <td>0</td>\n",
       "      <td>No one claims the report vindicating New Jerse...</td>\n",
       "    </tr>\n",
       "  </tbody>\n",
       "</table>\n",
       "<p>12791 rows × 3 columns</p>\n",
       "</div>"
      ],
      "text/plain": [
       "              id  label                                          statement\n",
       "0     11972.json      1  Building a wall on the U.S.-Mexico border will...\n",
       "1     11685.json      0  Wisconsin is on pace to double the number of l...\n",
       "2     11096.json      0  Says John McCain has done nothing to help the ...\n",
       "3      5209.json      1  Suzanne Bonamici supports a plan that will cut...\n",
       "4      9524.json      0  When asked by a reporter whether hes at the ce...\n",
       "...          ...    ...                                                ...\n",
       "1279   3419.json      1  For the first time in more than a decade, impo...\n",
       "1280  12548.json      1  Says Donald Trump has bankrupted his companies...\n",
       "1281    401.json      1  John McCain and George Bush have \"absolutely n...\n",
       "1282   1055.json      0  A new poll shows 62 percent support the presid...\n",
       "1283   9117.json      0  No one claims the report vindicating New Jerse...\n",
       "\n",
       "[12791 rows x 3 columns]"
      ]
     },
     "execution_count": 3,
     "metadata": {},
     "output_type": "execute_result"
    }
   ],
   "source": [
    "combined_liar"
   ]
  },
  {
   "cell_type": "code",
   "execution_count": 4,
   "id": "c2a61478-59b7-4905-9218-e7b8dd522fd6",
   "metadata": {
    "execution": {
     "iopub.execute_input": "2023-04-24T02:36:18.952251Z",
     "iopub.status.busy": "2023-04-24T02:36:18.952251Z",
     "iopub.status.idle": "2023-04-24T02:36:19.314127Z",
     "shell.execute_reply": "2023-04-24T02:36:19.314127Z",
     "shell.execute_reply.started": "2023-04-24T02:36:18.952251Z"
    }
   },
   "outputs": [],
   "source": [
    "# Load FakeNewsNet dataset\n",
    "#fnn_cols = [\"id\",\"news_url\", \"title\", \"tweet_id\"]\n",
    "fnn_cols = [\"id\",\"statement\",]\n",
    "\n",
    "fnn_path_gossip_fake = \"../../dataset/gossipcop_fake.csv\"\n",
    "fnn_df_gossip_fake = pd.read_csv(fnn_path_gossip_fake, usecols=[0, 2], names=fnn_cols, header = 0)\n",
    "fnn_df_gossip_fake[\"label\"] = \"false\"\n",
    "\n",
    "fnn_path_gossip_real = \"../../dataset/gossipcop_real.csv\"\n",
    "fnn_df_gossip_real = pd.read_csv(fnn_path_gossip_real, usecols=[0,2], names=fnn_cols,  header = 0)\n",
    "fnn_df_gossip_real[\"label\"] = \"true\"\n",
    "\n",
    "fnn_path_polit_fake = \"../../dataset/politifact_fake.csv\"\n",
    "fnn_df_polit_fake = pd.read_csv(fnn_path_polit_fake, usecols=[0, 2], names=fnn_cols,  header = 0)\n",
    "fnn_df_polit_fake[\"label\"] = \"false\"\n",
    "\n",
    "fnn_path_polit_real = \"../../dataset/politifact_real.csv\"\n",
    "fnn_df_polit_real = pd.read_csv(fnn_path_polit_real, usecols=[0, 2], names=fnn_cols,  header = 0)\n",
    "fnn_df_polit_real[\"label\"] = \"true\""
   ]
  },
  {
   "cell_type": "code",
   "execution_count": 5,
   "id": "6ac10930-2de9-4132-b0fa-1f882572f1ad",
   "metadata": {
    "execution": {
     "iopub.execute_input": "2023-04-24T02:36:19.316127Z",
     "iopub.status.busy": "2023-04-24T02:36:19.316127Z",
     "iopub.status.idle": "2023-04-24T02:36:19.345974Z",
     "shell.execute_reply": "2023-04-24T02:36:19.345974Z",
     "shell.execute_reply.started": "2023-04-24T02:36:19.316127Z"
    }
   },
   "outputs": [],
   "source": [
    "combined_fnn  = pd.concat([fnn_df_gossip_fake, fnn_df_gossip_real, fnn_df_polit_fake, fnn_df_polit_real])\n",
    "# Removing rows with missing values\n",
    "combined_fnn.dropna(inplace=True)\n",
    "# Converting labels to numerical values\n",
    "combined_fnn['label'] = combined_fnn['label'].map({'false': 0, 'true': 1})"
   ]
  },
  {
   "cell_type": "code",
   "execution_count": 6,
   "id": "b05bd330-eabe-4b15-993f-394710bc5a79",
   "metadata": {
    "execution": {
     "iopub.execute_input": "2023-04-24T02:36:19.347974Z",
     "iopub.status.busy": "2023-04-24T02:36:19.346976Z",
     "iopub.status.idle": "2023-04-24T02:36:19.361978Z",
     "shell.execute_reply": "2023-04-24T02:36:19.361978Z",
     "shell.execute_reply.started": "2023-04-24T02:36:19.346976Z"
    }
   },
   "outputs": [
    {
     "data": {
      "text/html": [
       "<div>\n",
       "<style scoped>\n",
       "    .dataframe tbody tr th:only-of-type {\n",
       "        vertical-align: middle;\n",
       "    }\n",
       "\n",
       "    .dataframe tbody tr th {\n",
       "        vertical-align: top;\n",
       "    }\n",
       "\n",
       "    .dataframe thead th {\n",
       "        text-align: right;\n",
       "    }\n",
       "</style>\n",
       "<table border=\"1\" class=\"dataframe\">\n",
       "  <thead>\n",
       "    <tr style=\"text-align: right;\">\n",
       "      <th></th>\n",
       "      <th>id</th>\n",
       "      <th>statement</th>\n",
       "      <th>label</th>\n",
       "    </tr>\n",
       "  </thead>\n",
       "  <tbody>\n",
       "    <tr>\n",
       "      <th>0</th>\n",
       "      <td>gossipcop-2493749932</td>\n",
       "      <td>Did Miley Cyrus and Liam Hemsworth secretly ge...</td>\n",
       "      <td>0</td>\n",
       "    </tr>\n",
       "    <tr>\n",
       "      <th>1</th>\n",
       "      <td>gossipcop-4580247171</td>\n",
       "      <td>Paris Jackson &amp; Cara Delevingne Enjoy Night Ou...</td>\n",
       "      <td>0</td>\n",
       "    </tr>\n",
       "    <tr>\n",
       "      <th>2</th>\n",
       "      <td>gossipcop-941805037</td>\n",
       "      <td>Celebrities Join Tax March in Protest of Donal...</td>\n",
       "      <td>0</td>\n",
       "    </tr>\n",
       "    <tr>\n",
       "      <th>3</th>\n",
       "      <td>gossipcop-2547891536</td>\n",
       "      <td>Cindy Crawford's daughter Kaia Gerber wears a ...</td>\n",
       "      <td>0</td>\n",
       "    </tr>\n",
       "    <tr>\n",
       "      <th>4</th>\n",
       "      <td>gossipcop-5476631226</td>\n",
       "      <td>Full List of 2018 Oscar Nominations – Variety</td>\n",
       "      <td>0</td>\n",
       "    </tr>\n",
       "    <tr>\n",
       "      <th>...</th>\n",
       "      <td>...</td>\n",
       "      <td>...</td>\n",
       "      <td>...</td>\n",
       "    </tr>\n",
       "    <tr>\n",
       "      <th>619</th>\n",
       "      <td>politifact14731</td>\n",
       "      <td>Flake: “Religious tests should have no place i...</td>\n",
       "      <td>1</td>\n",
       "    </tr>\n",
       "    <tr>\n",
       "      <th>620</th>\n",
       "      <td>politifact329</td>\n",
       "      <td>Change We Can Believe In</td>\n",
       "      <td>1</td>\n",
       "    </tr>\n",
       "    <tr>\n",
       "      <th>621</th>\n",
       "      <td>politifact1576</td>\n",
       "      <td>deputy director of national health statistics ...</td>\n",
       "      <td>1</td>\n",
       "    </tr>\n",
       "    <tr>\n",
       "      <th>622</th>\n",
       "      <td>politifact4720</td>\n",
       "      <td>Romneys ProLife Conversion Myth or Reality Jun...</td>\n",
       "      <td>1</td>\n",
       "    </tr>\n",
       "    <tr>\n",
       "      <th>623</th>\n",
       "      <td>politifact52</td>\n",
       "      <td>Interest Group Ratings</td>\n",
       "      <td>1</td>\n",
       "    </tr>\n",
       "  </tbody>\n",
       "</table>\n",
       "<p>23196 rows × 3 columns</p>\n",
       "</div>"
      ],
      "text/plain": [
       "                       id                                          statement  \\\n",
       "0    gossipcop-2493749932  Did Miley Cyrus and Liam Hemsworth secretly ge...   \n",
       "1    gossipcop-4580247171  Paris Jackson & Cara Delevingne Enjoy Night Ou...   \n",
       "2     gossipcop-941805037  Celebrities Join Tax March in Protest of Donal...   \n",
       "3    gossipcop-2547891536  Cindy Crawford's daughter Kaia Gerber wears a ...   \n",
       "4    gossipcop-5476631226      Full List of 2018 Oscar Nominations – Variety   \n",
       "..                    ...                                                ...   \n",
       "619       politifact14731  Flake: “Religious tests should have no place i...   \n",
       "620         politifact329                           Change We Can Believe In   \n",
       "621        politifact1576  deputy director of national health statistics ...   \n",
       "622        politifact4720  Romneys ProLife Conversion Myth or Reality Jun...   \n",
       "623          politifact52                             Interest Group Ratings   \n",
       "\n",
       "     label  \n",
       "0        0  \n",
       "1        0  \n",
       "2        0  \n",
       "3        0  \n",
       "4        0  \n",
       "..     ...  \n",
       "619      1  \n",
       "620      1  \n",
       "621      1  \n",
       "622      1  \n",
       "623      1  \n",
       "\n",
       "[23196 rows x 3 columns]"
      ]
     },
     "execution_count": 6,
     "metadata": {},
     "output_type": "execute_result"
    }
   ],
   "source": [
    "combined_fnn"
   ]
  },
  {
   "cell_type": "code",
   "execution_count": 7,
   "id": "425e1c1f-42ec-4c6e-a760-78f6ce591ae9",
   "metadata": {
    "execution": {
     "iopub.execute_input": "2023-04-24T02:36:19.363979Z",
     "iopub.status.busy": "2023-04-24T02:36:19.362978Z",
     "iopub.status.idle": "2023-04-24T02:36:19.377981Z",
     "shell.execute_reply": "2023-04-24T02:36:19.377981Z",
     "shell.execute_reply.started": "2023-04-24T02:36:19.363979Z"
    }
   },
   "outputs": [
    {
     "data": {
      "text/html": [
       "<div>\n",
       "<style scoped>\n",
       "    .dataframe tbody tr th:only-of-type {\n",
       "        vertical-align: middle;\n",
       "    }\n",
       "\n",
       "    .dataframe tbody tr th {\n",
       "        vertical-align: top;\n",
       "    }\n",
       "\n",
       "    .dataframe thead th {\n",
       "        text-align: right;\n",
       "    }\n",
       "</style>\n",
       "<table border=\"1\" class=\"dataframe\">\n",
       "  <thead>\n",
       "    <tr style=\"text-align: right;\">\n",
       "      <th></th>\n",
       "      <th>id</th>\n",
       "      <th>label</th>\n",
       "      <th>statement</th>\n",
       "    </tr>\n",
       "  </thead>\n",
       "  <tbody>\n",
       "    <tr>\n",
       "      <th>0</th>\n",
       "      <td>11972.json</td>\n",
       "      <td>1</td>\n",
       "      <td>Building a wall on the U.S.-Mexico border will...</td>\n",
       "    </tr>\n",
       "    <tr>\n",
       "      <th>1</th>\n",
       "      <td>11685.json</td>\n",
       "      <td>0</td>\n",
       "      <td>Wisconsin is on pace to double the number of l...</td>\n",
       "    </tr>\n",
       "    <tr>\n",
       "      <th>2</th>\n",
       "      <td>11096.json</td>\n",
       "      <td>0</td>\n",
       "      <td>Says John McCain has done nothing to help the ...</td>\n",
       "    </tr>\n",
       "    <tr>\n",
       "      <th>3</th>\n",
       "      <td>5209.json</td>\n",
       "      <td>1</td>\n",
       "      <td>Suzanne Bonamici supports a plan that will cut...</td>\n",
       "    </tr>\n",
       "    <tr>\n",
       "      <th>4</th>\n",
       "      <td>9524.json</td>\n",
       "      <td>0</td>\n",
       "      <td>When asked by a reporter whether hes at the ce...</td>\n",
       "    </tr>\n",
       "    <tr>\n",
       "      <th>...</th>\n",
       "      <td>...</td>\n",
       "      <td>...</td>\n",
       "      <td>...</td>\n",
       "    </tr>\n",
       "    <tr>\n",
       "      <th>619</th>\n",
       "      <td>politifact14731</td>\n",
       "      <td>1</td>\n",
       "      <td>Flake: “Religious tests should have no place i...</td>\n",
       "    </tr>\n",
       "    <tr>\n",
       "      <th>620</th>\n",
       "      <td>politifact329</td>\n",
       "      <td>1</td>\n",
       "      <td>Change We Can Believe In</td>\n",
       "    </tr>\n",
       "    <tr>\n",
       "      <th>621</th>\n",
       "      <td>politifact1576</td>\n",
       "      <td>1</td>\n",
       "      <td>deputy director of national health statistics ...</td>\n",
       "    </tr>\n",
       "    <tr>\n",
       "      <th>622</th>\n",
       "      <td>politifact4720</td>\n",
       "      <td>1</td>\n",
       "      <td>Romneys ProLife Conversion Myth or Reality Jun...</td>\n",
       "    </tr>\n",
       "    <tr>\n",
       "      <th>623</th>\n",
       "      <td>politifact52</td>\n",
       "      <td>1</td>\n",
       "      <td>Interest Group Ratings</td>\n",
       "    </tr>\n",
       "  </tbody>\n",
       "</table>\n",
       "<p>35987 rows × 3 columns</p>\n",
       "</div>"
      ],
      "text/plain": [
       "                  id  label                                          statement\n",
       "0         11972.json      1  Building a wall on the U.S.-Mexico border will...\n",
       "1         11685.json      0  Wisconsin is on pace to double the number of l...\n",
       "2         11096.json      0  Says John McCain has done nothing to help the ...\n",
       "3          5209.json      1  Suzanne Bonamici supports a plan that will cut...\n",
       "4          9524.json      0  When asked by a reporter whether hes at the ce...\n",
       "..               ...    ...                                                ...\n",
       "619  politifact14731      1  Flake: “Religious tests should have no place i...\n",
       "620    politifact329      1                           Change We Can Believe In\n",
       "621   politifact1576      1  deputy director of national health statistics ...\n",
       "622   politifact4720      1  Romneys ProLife Conversion Myth or Reality Jun...\n",
       "623     politifact52      1                             Interest Group Ratings\n",
       "\n",
       "[35987 rows x 3 columns]"
      ]
     },
     "execution_count": 7,
     "metadata": {},
     "output_type": "execute_result"
    }
   ],
   "source": [
    "combined_liar_fnn =pd.concat([combined_liar[[\"id\", \"label\", \"statement\"]], combined_fnn])\n",
    "combined_liar_fnn"
   ]
  },
  {
   "cell_type": "code",
   "execution_count": 8,
   "id": "46630bd0-3643-442f-8309-8e768dc8138c",
   "metadata": {
    "execution": {
     "iopub.execute_input": "2023-04-24T02:36:19.379983Z",
     "iopub.status.busy": "2023-04-24T02:36:19.378983Z",
     "iopub.status.idle": "2023-04-24T02:36:20.355643Z",
     "shell.execute_reply": "2023-04-24T02:36:20.355643Z",
     "shell.execute_reply.started": "2023-04-24T02:36:19.379983Z"
    }
   },
   "outputs": [],
   "source": [
    "import seaborn as sns\n",
    "def check_dist(dataset):\n",
    "  sns.countplot(x='label', data=dataset, palette='hls')"
   ]
  },
  {
   "cell_type": "code",
   "execution_count": 9,
   "id": "92afaf18-b334-48ef-9fa6-cfeecb760c2e",
   "metadata": {
    "execution": {
     "iopub.execute_input": "2023-04-24T02:36:20.357644Z",
     "iopub.status.busy": "2023-04-24T02:36:20.356643Z",
     "iopub.status.idle": "2023-04-24T02:36:20.530562Z",
     "shell.execute_reply": "2023-04-24T02:36:20.530562Z",
     "shell.execute_reply.started": "2023-04-24T02:36:20.357644Z"
    }
   },
   "outputs": [
    {
     "data": {
      "image/png": "[encoded data removed]",
      "text/plain": [
       "<Figure size 640x480 with 1 Axes>"
      ]
     },
     "metadata": {},
     "output_type": "display_data"
    }
   ],
   "source": [
    "check_dist(combined_liar_fnn)"
   ]
  },
  {
   "cell_type": "code",
   "execution_count": 10,
   "id": "ee5e412e-3855-491a-9fd3-d6494c83a179",
   "metadata": {
    "execution": {
     "iopub.execute_input": "2023-04-24T02:36:20.532563Z",
     "iopub.status.busy": "2023-04-24T02:36:20.531563Z",
     "iopub.status.idle": "2023-04-24T02:36:33.159139Z",
     "shell.execute_reply": "2023-04-24T02:36:33.159139Z",
     "shell.execute_reply.started": "2023-04-24T02:36:20.532563Z"
    }
   },
   "outputs": [
    {
     "name": "stderr",
     "output_type": "stream",
     "text": [
      "[nltk_data] Downloading package punkt to\n",
      "[nltk_data]     C:\\Users\\Seba\\AppData\\Roaming\\nltk_data...\n",
      "[nltk_data]   Package punkt is already up-to-date!\n",
      "[nltk_data] Downloading package stopwords to\n",
      "[nltk_data]     C:\\Users\\Seba\\AppData\\Roaming\\nltk_data...\n",
      "[nltk_data]   Package stopwords is already up-to-date!\n"
     ]
    }
   ],
   "source": [
    "import string\n",
    "import nltk\n",
    "import nltk\n",
    "nltk.download('punkt')\n",
    "nltk.download('stopwords')\n",
    "from nltk.corpus import stopwords\n",
    "\n",
    "# Define a function to preprocess text data\n",
    "def preprocess_text(text):\n",
    "    # Remove punctuation\n",
    "    text = text.translate(str.maketrans('', '', string.punctuation +'’‘“”'))\n",
    "    \n",
    "    # Convert to lowercase\n",
    "    text = text.lower()\n",
    "    \n",
    "    # Remove stop words\n",
    "    stop_words = set(stopwords.words('english'))\n",
    "    tokens = nltk.word_tokenize(text)\n",
    "    filtered_tokens = [word for word in tokens if word not in stop_words]\n",
    "    text = ' '.join(filtered_tokens)\n",
    "    \n",
    "    return text\n",
    "\n",
    "# Preprocess the text data\n",
    "combined_liar_fnn['statement'] = combined_liar_fnn['statement'].apply(preprocess_text)"
   ]
  },
  {
   "cell_type": "code",
   "execution_count": 12,
   "id": "f6f2d3a6-c22e-4c64-91c5-585cfd8ce46a",
   "metadata": {
    "execution": {
     "iopub.execute_input": "2023-04-24T02:37:07.762075Z",
     "iopub.status.busy": "2023-04-24T02:37:07.761075Z",
     "iopub.status.idle": "2023-04-24T02:37:07.780079Z",
     "shell.execute_reply": "2023-04-24T02:37:07.780079Z",
     "shell.execute_reply.started": "2023-04-24T02:37:07.762075Z"
    },
    "tags": []
   },
   "outputs": [
    {
     "data": {
      "text/html": [
       "<div>\n",
       "<style scoped>\n",
       "    .dataframe tbody tr th:only-of-type {\n",
       "        vertical-align: middle;\n",
       "    }\n",
       "\n",
       "    .dataframe tbody tr th {\n",
       "        vertical-align: top;\n",
       "    }\n",
       "\n",
       "    .dataframe thead th {\n",
       "        text-align: right;\n",
       "    }\n",
       "</style>\n",
       "<table border=\"1\" class=\"dataframe\">\n",
       "  <thead>\n",
       "    <tr style=\"text-align: right;\">\n",
       "      <th></th>\n",
       "      <th>id</th>\n",
       "      <th>label</th>\n",
       "      <th>statement</th>\n",
       "    </tr>\n",
       "  </thead>\n",
       "  <tbody>\n",
       "    <tr>\n",
       "      <th>0</th>\n",
       "      <td>11972.json</td>\n",
       "      <td>1</td>\n",
       "      <td>building wall usmexico border take literally y...</td>\n",
       "    </tr>\n",
       "    <tr>\n",
       "      <th>1</th>\n",
       "      <td>11685.json</td>\n",
       "      <td>0</td>\n",
       "      <td>wisconsin pace double number layoffs year</td>\n",
       "    </tr>\n",
       "    <tr>\n",
       "      <th>2</th>\n",
       "      <td>11096.json</td>\n",
       "      <td>0</td>\n",
       "      <td>says john mccain done nothing help vets</td>\n",
       "    </tr>\n",
       "    <tr>\n",
       "      <th>3</th>\n",
       "      <td>5209.json</td>\n",
       "      <td>1</td>\n",
       "      <td>suzanne bonamici supports plan cut choice medi...</td>\n",
       "    </tr>\n",
       "    <tr>\n",
       "      <th>4</th>\n",
       "      <td>9524.json</td>\n",
       "      <td>0</td>\n",
       "      <td>asked reporter whether hes center criminal sch...</td>\n",
       "    </tr>\n",
       "    <tr>\n",
       "      <th>...</th>\n",
       "      <td>...</td>\n",
       "      <td>...</td>\n",
       "      <td>...</td>\n",
       "    </tr>\n",
       "    <tr>\n",
       "      <th>619</th>\n",
       "      <td>politifact14731</td>\n",
       "      <td>1</td>\n",
       "      <td>flake religious tests place senate</td>\n",
       "    </tr>\n",
       "    <tr>\n",
       "      <th>620</th>\n",
       "      <td>politifact329</td>\n",
       "      <td>1</td>\n",
       "      <td>change believe</td>\n",
       "    </tr>\n",
       "    <tr>\n",
       "      <th>621</th>\n",
       "      <td>politifact1576</td>\n",
       "      <td>1</td>\n",
       "      <td>deputy director national health statistics off...</td>\n",
       "    </tr>\n",
       "    <tr>\n",
       "      <th>622</th>\n",
       "      <td>politifact4720</td>\n",
       "      <td>1</td>\n",
       "      <td>romneys prolife conversion myth reality june 14</td>\n",
       "    </tr>\n",
       "    <tr>\n",
       "      <th>623</th>\n",
       "      <td>politifact52</td>\n",
       "      <td>1</td>\n",
       "      <td>interest group ratings</td>\n",
       "    </tr>\n",
       "  </tbody>\n",
       "</table>\n",
       "<p>35987 rows × 3 columns</p>\n",
       "</div>"
      ],
      "text/plain": [
       "                  id  label                                          statement\n",
       "0         11972.json      1  building wall usmexico border take literally y...\n",
       "1         11685.json      0          wisconsin pace double number layoffs year\n",
       "2         11096.json      0            says john mccain done nothing help vets\n",
       "3          5209.json      1  suzanne bonamici supports plan cut choice medi...\n",
       "4          9524.json      0  asked reporter whether hes center criminal sch...\n",
       "..               ...    ...                                                ...\n",
       "619  politifact14731      1                 flake religious tests place senate\n",
       "620    politifact329      1                                     change believe\n",
       "621   politifact1576      1  deputy director national health statistics off...\n",
       "622   politifact4720      1    romneys prolife conversion myth reality june 14\n",
       "623     politifact52      1                             interest group ratings\n",
       "\n",
       "[35987 rows x 3 columns]"
      ]
     },
     "execution_count": 12,
     "metadata": {},
     "output_type": "execute_result"
    }
   ],
   "source": [
    "combined_liar_fnn"
   ]
  },
  {
   "cell_type": "code",
   "execution_count": 20,
   "id": "33b8182c-56e7-4a37-91c2-b7e05c0e58da",
   "metadata": {
    "execution": {
     "iopub.execute_input": "2023-04-24T02:48:30.667597Z",
     "iopub.status.busy": "2023-04-24T02:48:30.667597Z",
     "iopub.status.idle": "2023-04-24T02:48:30.682599Z",
     "shell.execute_reply": "2023-04-24T02:48:30.682599Z",
     "shell.execute_reply.started": "2023-04-24T02:48:30.667597Z"
    },
    "tags": []
   },
   "outputs": [],
   "source": [
    "#combined_liar_fnn.iloc[:, 1:3].to_csv('data.csv', index=False)\n",
    "combined_liar_fnn.iloc[:, 1:3].to_pickle('data.pkl')"
   ]
  },
  {
   "cell_type": "code",
   "execution_count": 12,
   "id": "d3d23250-2568-487b-bf7f-7a7006d9da80",
   "metadata": {},
   "outputs": [
    {
     "name": "stdout",
     "output_type": "stream",
     "text": [
      "  (0, 27289)\t0.2436268039670808\n",
      "  (0, 14857)\t0.4227473573880462\n",
      "  (0, 24344)\t0.3224499148542543\n",
      "  (0, 4022)\t0.3647315298103628\n",
      "  (0, 26077)\t0.46788487161214115\n",
      "  (0, 26541)\t0.38144079249850943\n",
      "  (0, 4441)\t0.4006423398961784\n",
      "  (1, 27281)\t0.26950745644495355\n",
      "  (1, 14465)\t0.5234206675317907\n",
      "  (1, 17336)\t0.35892339416876495\n",
      "  (1, 8135)\t0.40326178267838386\n",
      "  (1, 18023)\t0.5072184575299323\n",
      "  (1, 27026)\t0.3235427387711359\n",
      "  (2, 26262)\t0.5562676613111706\n",
      "  (2, 11925)\t0.35909570835550575\n",
      "  (2, 17276)\t0.3923202833790793\n",
      "  (2, 8075)\t0.389341078622685\n",
      "  (2, 15700)\t0.356446097824496\n",
      "  (2, 13559)\t0.3072435482379049\n",
      "  (2, 21697)\t0.1861785765823056\n",
      "  (3, 22091)\t0.32480362308068156\n",
      "  (3, 1737)\t0.37416880645764733\n",
      "  (3, 15839)\t0.26950554679202443\n",
      "  (3, 5408)\t0.28677741198784773\n",
      "  (3, 6878)\t0.2542045962219992\n",
      "  :\t:\n",
      "  (7, 1699)\t0.28131391765989144\n",
      "  (7, 3618)\t0.3385902876255802\n",
      "  (7, 13554)\t0.26456165335621173\n",
      "  (7, 19352)\t0.19857909797443513\n",
      "  (7, 26277)\t0.350989459221216\n",
      "  (7, 21697)\t0.13664348340158713\n",
      "  (8, 3010)\t0.3223669830833075\n",
      "  (8, 11003)\t0.3597829174663787\n",
      "  (8, 26566)\t0.3482114439209169\n",
      "  (8, 8988)\t0.5443126057363885\n",
      "  (8, 15533)\t0.35518255638003127\n",
      "  (8, 25468)\t0.31594203219630745\n",
      "  (8, 8064)\t0.3509050327526434\n",
      "  (9, 10285)\t0.31641007537489046\n",
      "  (9, 5638)\t0.23069929143850226\n",
      "  (9, 6269)\t0.4044905513203397\n",
      "  (9, 15300)\t0.27338896834835474\n",
      "  (9, 10933)\t0.3027731031460969\n",
      "  (9, 23530)\t0.18915192503156936\n",
      "  (9, 21975)\t0.2930967383282184\n",
      "  (9, 15860)\t0.3498434675638972\n",
      "  (9, 5640)\t0.31106325414253094\n",
      "  (9, 12078)\t0.23971635265159488\n",
      "  (9, 14113)\t0.23164853078394407\n",
      "  (9, 11539)\t0.2543165249068521\n"
     ]
    }
   ],
   "source": [
    "import numpy as np\n",
    "from sklearn.feature_extraction.text import TfidfVectorizer\n",
    "\n",
    "# Convert text data to numerical features\n",
    "vectorizer = TfidfVectorizer()\n",
    "X_sparse = vectorizer.fit_transform(combined_liar_fnn['statement'])\n",
    "#X = vectorizer.fit_transform(combined_liar_fnn['statement']).toarray()\n",
    "\n",
    "\n",
    "# Convert the sparse matrix to a dense array in chunks\n",
    "chunk_size = 1000\n",
    "n_samples = X_sparse.shape[0]\n",
    "n_features = X_sparse.shape[1]\n",
    "#X = np.zeros((n_samples, n_features))\n",
    "X = lil_matrix((n_samples, n_features), dtype=np.float64)\n",
    "\n",
    "for i in range(0, n_samples, chunk_size):\n",
    "    X[i:i+chunk_size, :] = X_sparse[i:i+chunk_size, :].toarray()\n",
    "\n",
    "print(X_sparse[:10])"
   ]
  },
  {
   "cell_type": "markdown",
   "id": "3b69ca5f-28e2-4c2d-892f-56a7837e90e6",
   "metadata": {},
   "source": [
    "## PreProcessing Part is done here. "
   ]
  },
  {
   "cell_type": "markdown",
   "id": "0fb6bd0f-e2a8-4d4d-8ee0-4247426e73d9",
   "metadata": {},
   "source": [
    "## The next cells is only for understanding the vectorized new data, but can be deleted in the end. "
   ]
  },
  {
   "cell_type": "code",
   "execution_count": 13,
   "id": "a353d62d-9582-4d6f-b811-a523199d958d",
   "metadata": {},
   "outputs": [
    {
     "ename": "AttributeError",
     "evalue": "'TfidfVectorizer' object has no attribute 'get_feature_names'",
     "output_type": "error",
     "traceback": [
      "\u001b[1;31m---------------------------------------------------------------------------\u001b[0m",
      "\u001b[1;31mAttributeError\u001b[0m                            Traceback (most recent call last)",
      "Cell \u001b[1;32mIn[13], line 2\u001b[0m\n\u001b[0;32m      1\u001b[0m \u001b[38;5;66;03m#vocab = vectorizer.get_feature_names_out()\u001b[39;00m\n\u001b[1;32m----> 2\u001b[0m vocab \u001b[38;5;241m=\u001b[39m \u001b[43mvectorizer\u001b[49m\u001b[38;5;241;43m.\u001b[39;49m\u001b[43mget_feature_names\u001b[49m()\n\u001b[0;32m      4\u001b[0m \u001b[38;5;66;03m# Define the target variable\u001b[39;00m\n\u001b[0;32m      5\u001b[0m y \u001b[38;5;241m=\u001b[39m np\u001b[38;5;241m.\u001b[39marray([\u001b[38;5;241m1\u001b[39m \u001b[38;5;28;01mif\u001b[39;00m label \u001b[38;5;129;01min\u001b[39;00m [\u001b[38;5;241m1\u001b[39m] \u001b[38;5;28;01melse\u001b[39;00m \u001b[38;5;241m0\u001b[39m \u001b[38;5;28;01mfor\u001b[39;00m label \u001b[38;5;129;01min\u001b[39;00m combined_liar_fnn[\u001b[38;5;124m'\u001b[39m\u001b[38;5;124mlabel\u001b[39m\u001b[38;5;124m'\u001b[39m]])\n",
      "\u001b[1;31mAttributeError\u001b[0m: 'TfidfVectorizer' object has no attribute 'get_feature_names'"
     ]
    }
   ],
   "source": [
    "#vocab = vectorizer.get_feature_names_out()\n",
    "vocab = vectorizer.get_feature_names()\n",
    "\n",
    "# Define the target variable\n",
    "y = np.array([1 if label in [1] else 0 for label in combined_liar_fnn['label']])\n",
    "\n",
    "\n",
    "print(X.shape)\n",
    "j= 0\n",
    "for i in X[0]:\n",
    "    if i != 0: print(i, j, vocab[j])\n",
    "    j =j+1\n",
    "combined_liar_fnn['statement'][0]"
   ]
  },
  {
   "cell_type": "markdown",
   "id": "54de5417-9e0e-4607-ba69-8f96eb446692",
   "metadata": {},
   "source": [
    "## Example how pre-processed data could be used"
   ]
  },
  {
   "cell_type": "code",
   "execution_count": null,
   "id": "b60b6d98-fc6a-44e8-9595-4423585c9b28",
   "metadata": {},
   "outputs": [],
   "source": [
    "from sklearn.linear_model import LogisticRegression\n",
    "from sklearn.metrics import accuracy_score, precision_score, recall_score, f1_score\n",
    "\n",
    "# Split the data into training and testing sets\n",
    "split = int(0.8 * len(combined_liar_fnn))\n",
    "X_train = X[:split]\n",
    "X_test = X[split:]\n",
    "y_train = y[:split]\n",
    "y_test = y[split:]\n",
    "\n",
    "# Train the Logistic Regression classifier\n",
    "lr = LogisticRegression(random_state=42)\n",
    "lr.fit(X_train, y_train)\n",
    "\n",
    "# Make predictions on the testing data\n",
    "y_pred = lr.predict(X_test)\n",
    "\n",
    "# Compute the accuracy, precision, recall, and F1-score\n",
    "accuracy = accuracy_score(y_test, y_pred)\n",
    "precision = precision_score(y_test, y_pred)\n",
    "recall = recall_score(y_test, y_pred)\n",
    "f1 = f1_score(y_test, y_pred)\n",
    "\n",
    "print('Accuracy:', accuracy)\n",
    "print('Precision:', precision)\n",
    "print('Recall:', recall)\n",
    "print('F1-score:', f1)"
   ]
  },
  {
   "cell_type": "code",
   "execution_count": null,
   "id": "53503c0c-1cfb-4c33-9c53-e1e9f62d80a5",
   "metadata": {},
   "outputs": [],
   "source": [
    "y_pred"
   ]
  },
  {
   "cell_type": "code",
   "execution_count": null,
   "id": "fde02ce4-68ea-41e7-aed1-13cfcd71009b",
   "metadata": {},
   "outputs": [],
   "source": [
    "# Define a new statement\n",
    "new_statement1 = ['Hillary buys russian lamps.']\n",
    "new_statement2 = ['Trump builds a wall']\n",
    "new_statement3 = ['Covid is back.']\n",
    "\n",
    "# Preprocess the text data\n",
    "new_statement = [preprocess_text(statement) for statement in new_statement1]\n",
    "\n",
    "# Convert the text data to numerical features\n",
    "new_features = vectorizer.transform(new_statement).toarray()\n",
    "\n",
    "# Make a prediction using the trained model\n",
    "prediction = lr.predict(new_features)[0]\n",
    "print(prediction)\n",
    "\n",
    "if prediction == 1:\n",
    "    print('This statement is deceptive.')\n",
    "else:\n",
    "    print('This statement is truthful.')"
   ]
  },
  {
   "cell_type": "code",
   "execution_count": null,
   "id": "c313d3a8-1820-4695-aa0b-c198243a58df",
   "metadata": {},
   "outputs": [],
   "source": []
  },
  {
   "cell_type": "code",
   "execution_count": null,
   "id": "cba28cdd-a63e-4192-ae13-1721c1602b53",
   "metadata": {},
   "outputs": [],
   "source": []
  }
 ],
 "metadata": {
  "kernelspec": {
   "display_name": "Python 3 (ipykernel)",
   "language": "python",
   "name": "python3"
  },
  "language_info": {
   "codemirror_mode": {
    "name": "ipython",
    "version": 3
   },
   "file_extension": ".py",
   "mimetype": "text/x-python",
   "name": "python",
   "nbconvert_exporter": "python",
   "pygments_lexer": "ipython3",
   "version": "3.8.15"
  }
 },
 "nbformat": 4,
 "nbformat_minor": 5
}
